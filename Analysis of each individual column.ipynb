{
 "cells": [
  {
   "cell_type": "markdown",
   "id": "b1312ba1-d11b-4812-bf68-bf168938ce01",
   "metadata": {},
   "source": [
    "Problem Statement:- In the given dataset perform clustering on each column individually to understand the structure of the data then we will see which columns is the best that we can use to do K clustering.Make Some changes."
   ]
  },
  {
   "cell_type": "code",
   "execution_count": 1,
   "id": "b6318538-51d8-4d7a-81d8-1631274d3e77",
   "metadata": {},
   "outputs": [],
   "source": [
    "import pandas as pd # Import the pandas library and alias it as 'pd' & read the dataset un 2nd cell\n",
    "import matplotlib.pyplot as plt # Import the pyplot module from the matplotlib library and alias it as 'plt' & used for plot the graph in 5,7,10,& 13 cell "
   ]
  },
  {
   "cell_type": "code",
   "execution_count": 2,
   "id": "98b31855-e70b-4a43-9135-ca0c06af766c",
   "metadata": {},
   "outputs": [
    {
     "data": {
      "text/html": [
       "<div>\n",
       "<style scoped>\n",
       "    .dataframe tbody tr th:only-of-type {\n",
       "        vertical-align: middle;\n",
       "    }\n",
       "\n",
       "    .dataframe tbody tr th {\n",
       "        vertical-align: top;\n",
       "    }\n",
       "\n",
       "    .dataframe thead th {\n",
       "        text-align: right;\n",
       "    }\n",
       "</style>\n",
       "<table border=\"1\" class=\"dataframe\">\n",
       "  <thead>\n",
       "    <tr style=\"text-align: right;\">\n",
       "      <th></th>\n",
       "      <th>CustomerID</th>\n",
       "      <th>Genre</th>\n",
       "      <th>Age</th>\n",
       "      <th>Annual Income (k$)</th>\n",
       "      <th>Spending Score (1-100)</th>\n",
       "    </tr>\n",
       "  </thead>\n",
       "  <tbody>\n",
       "    <tr>\n",
       "      <th>0</th>\n",
       "      <td>1</td>\n",
       "      <td>Male</td>\n",
       "      <td>19</td>\n",
       "      <td>15</td>\n",
       "      <td>39</td>\n",
       "    </tr>\n",
       "    <tr>\n",
       "      <th>1</th>\n",
       "      <td>2</td>\n",
       "      <td>Male</td>\n",
       "      <td>21</td>\n",
       "      <td>15</td>\n",
       "      <td>81</td>\n",
       "    </tr>\n",
       "    <tr>\n",
       "      <th>2</th>\n",
       "      <td>3</td>\n",
       "      <td>Female</td>\n",
       "      <td>20</td>\n",
       "      <td>16</td>\n",
       "      <td>6</td>\n",
       "    </tr>\n",
       "    <tr>\n",
       "      <th>3</th>\n",
       "      <td>4</td>\n",
       "      <td>Female</td>\n",
       "      <td>23</td>\n",
       "      <td>16</td>\n",
       "      <td>77</td>\n",
       "    </tr>\n",
       "    <tr>\n",
       "      <th>4</th>\n",
       "      <td>5</td>\n",
       "      <td>Female</td>\n",
       "      <td>31</td>\n",
       "      <td>17</td>\n",
       "      <td>40</td>\n",
       "    </tr>\n",
       "    <tr>\n",
       "      <th>...</th>\n",
       "      <td>...</td>\n",
       "      <td>...</td>\n",
       "      <td>...</td>\n",
       "      <td>...</td>\n",
       "      <td>...</td>\n",
       "    </tr>\n",
       "    <tr>\n",
       "      <th>195</th>\n",
       "      <td>196</td>\n",
       "      <td>Female</td>\n",
       "      <td>35</td>\n",
       "      <td>120</td>\n",
       "      <td>79</td>\n",
       "    </tr>\n",
       "    <tr>\n",
       "      <th>196</th>\n",
       "      <td>197</td>\n",
       "      <td>Female</td>\n",
       "      <td>45</td>\n",
       "      <td>126</td>\n",
       "      <td>28</td>\n",
       "    </tr>\n",
       "    <tr>\n",
       "      <th>197</th>\n",
       "      <td>198</td>\n",
       "      <td>Male</td>\n",
       "      <td>32</td>\n",
       "      <td>126</td>\n",
       "      <td>74</td>\n",
       "    </tr>\n",
       "    <tr>\n",
       "      <th>198</th>\n",
       "      <td>199</td>\n",
       "      <td>Male</td>\n",
       "      <td>32</td>\n",
       "      <td>137</td>\n",
       "      <td>18</td>\n",
       "    </tr>\n",
       "    <tr>\n",
       "      <th>199</th>\n",
       "      <td>200</td>\n",
       "      <td>Male</td>\n",
       "      <td>30</td>\n",
       "      <td>137</td>\n",
       "      <td>83</td>\n",
       "    </tr>\n",
       "  </tbody>\n",
       "</table>\n",
       "<p>200 rows × 5 columns</p>\n",
       "</div>"
      ],
      "text/plain": [
       "     CustomerID   Genre  Age  Annual Income (k$)  Spending Score (1-100)\n",
       "0             1    Male   19                  15                      39\n",
       "1             2    Male   21                  15                      81\n",
       "2             3  Female   20                  16                       6\n",
       "3             4  Female   23                  16                      77\n",
       "4             5  Female   31                  17                      40\n",
       "..          ...     ...  ...                 ...                     ...\n",
       "195         196  Female   35                 120                      79\n",
       "196         197  Female   45                 126                      28\n",
       "197         198    Male   32                 126                      74\n",
       "198         199    Male   32                 137                      18\n",
       "199         200    Male   30                 137                      83\n",
       "\n",
       "[200 rows x 5 columns]"
      ]
     },
     "execution_count": 2,
     "metadata": {},
     "output_type": "execute_result"
    }
   ],
   "source": [
    "data = pd.read_csv(\"C:/Users/LENOVO/Downloads/Mall_Customers.csv\") # Read a CSV file named \"Mall_Customers.csv\" \n",
    "data # Display the contents of the data (print first five and last five rows)"
   ]
  },
  {
   "cell_type": "code",
   "execution_count": 3,
   "id": "70abe07e-4f90-4eb5-9136-b8a34dc919db",
   "metadata": {},
   "outputs": [
    {
     "name": "stdout",
     "output_type": "stream",
     "text": [
      "Male: 88\n",
      "Female: 112\n"
     ]
    }
   ],
   "source": [
    "# Initialize an empty dictionary to store counts of each genre\n",
    "genre_counts = {}\n",
    "# Iterate through each genre in the 'Genre' column\n",
    "for genre in data['Genre']:\n",
    "# If the genre is already in the dictionary, increment its count by 1\n",
    "    if genre in genre_counts:\n",
    "        genre_counts[genre] += 1\n",
    "# If the genre is not in the dictionary, add it with a count of 1\n",
    "    else:\n",
    "        genre_counts[genre] = 1\n",
    "# Print the counts of each genre\n",
    "for genre, count in genre_counts.items():\n",
    "    print(f\"{genre}: {count}\")"
   ]
  },
  {
   "cell_type": "code",
   "execution_count": 4,
   "id": "1696e154-2bee-4fd7-a7ce-79e176e49be9",
   "metadata": {},
   "outputs": [],
   "source": [
    "Gender_column = data['Genre'] # Extract the 'Genre' column from the data and assign it to the variable 'Gender_column'"
   ]
  },
  {
   "cell_type": "code",
   "execution_count": 5,
   "id": "7fbaa5b8-7e9c-4ada-b474-d3cef0513d03",
   "metadata": {},
   "outputs": [
    {
     "data": {
      "text/plain": [
       "<matplotlib.collections.PathCollection at 0x1ae23c56690>"
      ]
     },
     "execution_count": 5,
     "metadata": {},
     "output_type": "execute_result"
    },
    {
     "data": {
      "image/png": "[encoded data removed]",
      "text/plain": [
       "<Figure size 640x480 with 1 Axes>"
      ]
     },
     "metadata": {},
     "output_type": "display_data"
    }
   ],
   "source": [
    "plt.scatter(data.index, Gender_column, c=Gender_column.map({'Male': 'cyan', 'Female': 'gray'})) # Create a scatter plot using the index as the x-axis values, Gender_column as the y-axis values,and color the points based on the Gender_column values ('Male' in cyan and 'Female' in gray)"
   ]
  },
  {
   "cell_type": "code",
   "execution_count": 6,
   "id": "5e6dacb0-4db9-43a8-9667-0e17e6c0f3b8",
   "metadata": {},
   "outputs": [
    {
     "name": "stdout",
     "output_type": "stream",
     "text": [
      "18: 4\n",
      "19: 8\n",
      "20: 5\n",
      "21: 5\n",
      "22: 3\n",
      "23: 6\n",
      "24: 4\n",
      "25: 3\n",
      "26: 2\n",
      "27: 6\n",
      "28: 4\n",
      "29: 5\n",
      "30: 7\n",
      "31: 8\n",
      "32: 11\n",
      "33: 3\n",
      "34: 5\n",
      "35: 9\n",
      "36: 6\n",
      "37: 3\n",
      "38: 6\n",
      "39: 3\n",
      "40: 6\n",
      "41: 2\n",
      "42: 2\n",
      "43: 3\n",
      "44: 2\n",
      "45: 3\n",
      "46: 3\n",
      "47: 6\n",
      "48: 5\n",
      "49: 7\n",
      "50: 5\n",
      "51: 2\n",
      "52: 2\n",
      "53: 2\n",
      "54: 4\n",
      "55: 1\n",
      "56: 1\n",
      "57: 2\n",
      "58: 2\n",
      "59: 4\n",
      "60: 3\n",
      "63: 2\n",
      "64: 1\n",
      "65: 2\n",
      "66: 2\n",
      "67: 4\n",
      "68: 3\n",
      "69: 1\n",
      "70: 2\n"
     ]
    }
   ],
   "source": [
    "# Initialize an empty dictionary to store counts of each age\n",
    "age_counts = {}\n",
    "# Iterate through each age in the 'Age' column\n",
    "for age in data['Age']:\n",
    "# If the age is already in the dictionary, increment its count by 1\n",
    "    if age in age_counts:\n",
    "        age_counts[age] += 1\n",
    "# If the age is not in the dictionary, add it with a count of 1\n",
    "    else:\n",
    "        age_counts[age] = 1\n",
    "# Print the counts of each age\n",
    "for age, count in sorted(age_counts.items()):\n",
    "    print(f\"{age}: {count}\")\n"
   ]
  },
  {
   "cell_type": "code",
   "execution_count": 7,
   "id": "245611fb-8287-4118-8052-424010b85335",
   "metadata": {},
   "outputs": [
    {
     "data": {
      "image/png": "[encoded data removed]",
      "text/plain": [
       "<Figure size 640x480 with 1 Axes>"
      ]
     },
     "metadata": {},
     "output_type": "display_data"
    }
   ],
   "source": [
    "age_column = data['Age'] # Extract the 'Age' column from the data and assign it to the variable 'age_column'\n",
    "\n",
    "# Create scatter plot\n",
    "plt.scatter(data.index, age_column, c='orange')  # Using index as x values\n",
    "plt.xlabel('Index')  # Label for x-axis\n",
    "plt.ylabel('Age')  # Label for y-axis\n",
    "plt.title('Scatter Plot of Customer Age')  # Title for the plot\n",
    "plt.show() #Show the plot"
   ]
  },
  {
   "cell_type": "code",
   "execution_count": 8,
   "id": "09649595-10ae-4b42-9d60-e5e4eb04e98b",
   "metadata": {},
   "outputs": [
    {
     "name": "stdout",
     "output_type": "stream",
     "text": [
      "15: 2\n",
      "16: 2\n",
      "17: 2\n",
      "18: 2\n",
      "19: 4\n",
      "20: 4\n",
      "21: 2\n",
      "23: 2\n",
      "24: 2\n",
      "25: 2\n",
      "28: 4\n",
      "29: 2\n",
      "30: 2\n",
      "33: 4\n",
      "34: 2\n",
      "37: 2\n",
      "38: 2\n",
      "39: 4\n",
      "40: 4\n",
      "42: 2\n",
      "43: 4\n",
      "44: 2\n",
      "46: 4\n",
      "47: 2\n",
      "48: 6\n",
      "49: 2\n",
      "50: 2\n",
      "54: 12\n",
      "57: 2\n",
      "58: 2\n",
      "59: 2\n",
      "60: 6\n",
      "61: 2\n",
      "62: 6\n",
      "63: 6\n",
      "64: 2\n",
      "65: 4\n",
      "67: 4\n",
      "69: 2\n",
      "70: 2\n",
      "71: 6\n",
      "72: 2\n",
      "73: 4\n",
      "74: 2\n",
      "75: 2\n",
      "76: 2\n",
      "77: 4\n",
      "78: 12\n",
      "79: 2\n",
      "81: 2\n",
      "85: 2\n",
      "86: 2\n",
      "87: 6\n",
      "88: 4\n",
      "93: 2\n",
      "97: 2\n",
      "98: 2\n",
      "99: 2\n",
      "101: 2\n",
      "103: 4\n",
      "113: 2\n",
      "120: 2\n",
      "126: 2\n",
      "137: 2\n"
     ]
    }
   ],
   "source": [
    "# Initialize an empty dictionary to store counts of each annual income\n",
    "income_counts = {}\n",
    "# Iterate through each value in the 'Annual Income (k$)' column\n",
    "for income in data['Annual Income (k$)']:\n",
    "# If the income is already in the dictionary, increment its count by 1\n",
    "    if income in income_counts:\n",
    "        income_counts[income] += 1\n",
    "# If the income is not in the dictionary, add it with a count of 1\n",
    "    else:\n",
    "        income_counts[income] = 1\n",
    "# Print the counts of each annual income\n",
    "for income, count in income_counts.items():\n",
    "    print(f\"{income}: {count}\")"
   ]
  },
  {
   "cell_type": "code",
   "execution_count": 9,
   "id": "9cd33498-61a7-4f30-ab60-98b307b9a3e2",
   "metadata": {},
   "outputs": [],
   "source": [
    "AnnualIncome_column = data['Annual Income (k$)'] # Extract the 'Annual Income(k$)' column from the data and assign it to the variable 'AnnualIncome_column'"
   ]
  },
  {
   "cell_type": "code",
   "execution_count": 10,
   "id": "86d2c1a4-cb44-4048-9083-ab0d347d31e4",
   "metadata": {},
   "outputs": [
    {
     "data": {
      "text/plain": [
       "<matplotlib.collections.PathCollection at 0x1ae245a2210>"
      ]
     },
     "execution_count": 10,
     "metadata": {},
     "output_type": "execute_result"
    },
    {
     "data": {
      "image/png": "[encoded data removed]",
      "text/plain": [
       "<Figure size 640x480 with 1 Axes>"
      ]
     },
     "metadata": {},
     "output_type": "display_data"
    }
   ],
   "source": [
    "plt.scatter(data.index, AnnualIncome_column, c='purple') # Create a scatter plot using the index as the x-axis values, AnnualIncome_column as the y-axis values,and color all points in the scatter plot as purple"
   ]
  },
  {
   "cell_type": "code",
   "execution_count": 11,
   "id": "cd3fe119-5994-42fe-9f1e-90ff3ceeae6e",
   "metadata": {},
   "outputs": [
    {
     "name": "stdout",
     "output_type": "stream",
     "text": [
      "1: 2\n",
      "3: 1\n",
      "4: 2\n",
      "5: 4\n",
      "6: 2\n",
      "7: 1\n",
      "8: 1\n",
      "9: 1\n",
      "10: 2\n",
      "11: 1\n",
      "12: 1\n",
      "13: 3\n",
      "14: 4\n",
      "15: 3\n",
      "16: 2\n",
      "17: 3\n",
      "18: 1\n",
      "20: 2\n",
      "22: 1\n",
      "23: 1\n",
      "24: 1\n",
      "26: 2\n",
      "27: 1\n",
      "28: 2\n",
      "29: 2\n",
      "31: 1\n",
      "32: 2\n",
      "34: 1\n",
      "35: 5\n",
      "36: 2\n",
      "39: 2\n",
      "40: 4\n",
      "41: 4\n",
      "42: 8\n",
      "43: 3\n",
      "44: 1\n",
      "45: 1\n",
      "46: 6\n",
      "47: 4\n",
      "48: 5\n",
      "49: 3\n",
      "50: 5\n",
      "51: 3\n",
      "52: 5\n",
      "53: 1\n",
      "54: 3\n",
      "55: 7\n",
      "56: 4\n",
      "57: 2\n",
      "58: 2\n",
      "59: 5\n",
      "60: 3\n",
      "61: 2\n",
      "63: 1\n",
      "65: 1\n",
      "66: 1\n",
      "68: 1\n",
      "69: 2\n",
      "71: 1\n",
      "72: 2\n",
      "73: 6\n",
      "74: 2\n",
      "75: 5\n",
      "76: 2\n",
      "77: 3\n",
      "78: 1\n",
      "79: 2\n",
      "81: 2\n",
      "82: 1\n",
      "83: 2\n",
      "85: 1\n",
      "86: 2\n",
      "87: 2\n",
      "88: 3\n",
      "89: 1\n",
      "90: 2\n",
      "91: 2\n",
      "92: 3\n",
      "93: 2\n",
      "94: 1\n",
      "95: 2\n",
      "97: 2\n",
      "98: 1\n",
      "99: 1\n"
     ]
    }
   ],
   "source": [
    "# Initialize an empty dictionary to store counts of each spending score\n",
    "score_counts = {}\n",
    "# Iterate through each value in the 'Spending Score (1-100)' column\n",
    "for score in data['Spending Score (1-100)']:\n",
    "# If the score is already in the dictionary, increment its count by 1\n",
    "    if score in score_counts:\n",
    "        score_counts[score] += 1\n",
    "# If the score is not in the dictionary, add it with a count of 1\n",
    "    else:\n",
    "        score_counts[score] = 1\n",
    "# Print the counts of each spending score\n",
    "for score, count in sorted(score_counts.items()):\n",
    "    print(f\"{score}: {count}\")"
   ]
  },
  {
   "cell_type": "code",
   "execution_count": 12,
   "id": "7eb8dab8-9575-4ae7-938f-6a0f939b79fd",
   "metadata": {},
   "outputs": [],
   "source": [
    "spendingscore_column = data['Spending Score (1-100)'] # Extract the 'Spending Score(1-100)' column from the data and assign it to the variable 'spendingscore_column'"
   ]
  },
  {
   "cell_type": "code",
   "execution_count": 13,
   "id": "d0022782-db9a-46d9-9b2f-d65cf48f68b2",
   "metadata": {},
   "outputs": [
    {
     "data": {
      "text/plain": [
       "<matplotlib.collections.PathCollection at 0x1ae23cccb10>"
      ]
     },
     "execution_count": 13,
     "metadata": {},
     "output_type": "execute_result"
    },
    {
     "data": {
      "image/png": "[encoded data removed]",
      "text/plain": [
       "<Figure size 640x480 with 1 Axes>"
      ]
     },
     "metadata": {},
     "output_type": "display_data"
    }
   ],
   "source": [
    "plt.scatter(data.index, spendingscore_column, c='olive') # Create a scatter plot using the index as the x-axis values, spendingscore_column as the y-axis values,and color all points in the scatter plot as olive"
   ]
  },
  {
   "cell_type": "code",
   "execution_count": null,
   "id": "cdd16cb1-6da6-4974-94f4-d1b77abea1cd",
   "metadata": {},
   "outputs": [],
   "source": []
  }
 ],
 "metadata": {
  "kernelspec": {
   "display_name": "Python 3 (ipykernel)",
   "language": "python",
   "name": "python3"
  },
  "language_info": {
   "codemirror_mode": {
    "name": "ipython",
    "version": 3
   },
   "file_extension": ".py",
   "mimetype": "text/x-python",
   "name": "python",
   "nbconvert_exporter": "python",
   "pygments_lexer": "ipython3",
   "version": "3.11.5"
  }
 },
 "nbformat": 4,
 "nbformat_minor": 5
}
